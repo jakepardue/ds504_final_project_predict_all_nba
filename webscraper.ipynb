{
 "metadata": {
  "language_info": {
   "codemirror_mode": {
    "name": "ipython",
    "version": 3
   },
   "file_extension": ".py",
   "mimetype": "text/x-python",
   "name": "python",
   "nbconvert_exporter": "python",
   "pygments_lexer": "ipython3",
   "version": "3.8.2-final"
  },
  "orig_nbformat": 2,
  "kernelspec": {
   "name": "python3",
   "display_name": "Python 3.8.2 64-bit",
   "metadata": {
    "interpreter": {
     "hash": "aee8b7b246df8f9039afb4144a1f6fd8d2ca17a180786b69acc140d282b71a49"
    }
   }
  }
 },
 "nbformat": 4,
 "nbformat_minor": 2,
 "cells": [
  {
   "source": [
    "Importing all important libraries"
   ],
   "cell_type": "markdown",
   "metadata": {}
  },
  {
   "cell_type": "code",
   "execution_count": 2,
   "metadata": {},
   "outputs": [],
   "source": [
    "import pandas as pd\n",
    "from urllib.request import urlopen\n",
    "from bs4 import BeautifulSoup\n",
    "from bs4 import SoupStrainer\n",
    "from bs4 import Comment\n",
    "import re\n",
    "import numpy as np"
   ]
  },
  {
   "source": [
    "Define method for grabbing All-NBA team"
   ],
   "cell_type": "markdown",
   "metadata": {}
  },
  {
   "cell_type": "code",
   "execution_count": 2,
   "metadata": {
    "tags": []
   },
   "outputs": [],
   "source": [
    "\n",
    "def grab_AllNBA(year):\n",
    "    url_allNBA = \"https://www.basketball-reference.com/leagues/NBA_{}.html\".format(year)\n",
    "    html_allNBA = urlopen(url_allNBA)\n",
    "    # only_div = SoupStrainer(\"div\")\n",
    "    soup2 = BeautifulSoup(html_allNBA,\"html.parser\")\n",
    "    all_nba = soup2.find_all(\"div\",id=\"all_honors\")[0]\n",
    "    comment = all_nba.contents[0].find(text=lambda text: isinstance(text, Comment))\n",
    "    comment_str = str(comment)\n",
    "    #from looking at output, we can see that names of players in All-NBA team are between .html\\'> and </a>&nbsp; \n",
    "    # build for loop that will grab names between each string\n",
    "    begin_str = \".html'>\"\n",
    "    end_str = \"</a>&nbsp;\"\n",
    "    all_nba_arr = []\n",
    "    for i in range(15):\n",
    "        begin_cut = comment_str.index(begin_str)\n",
    "        end_cut = comment_str.index(end_str)\n",
    "        all_nba_arr.append(comment_str[begin_cut+len(begin_str):end_cut])\n",
    "        comment_str = comment_str[end_cut+len(end_str):]\n",
    "    return(all_nba_arr)\n",
    "\n"
   ]
  },
  {
   "cell_type": "code",
   "execution_count": 3,
   "metadata": {
    "tags": []
   },
   "outputs": [],
   "source": [
    "#grab training data from Basketball_reference and clean it\n",
    "training_year_arr = [1989,1990,1991,1992,1993,1994,1995,1996,1997,1998,1999,2000,2001,2002,2003,2004,2005,2006,2007,2008,2009,2010,2011,2012,2013,2014,2015,2016]\n",
    "testing_year_arr = [2017,2018,2019,2020]\n",
    "type_of_stats = [\"per_game\",\"per_minute\",\"per_poss\",\"advanced\"]\n",
    "\n",
    "def grab_NBA_Data(year_arr,file_name):\n",
    "    print(\"Starting making \",file_name)\n",
    "    non_changeable_cols = ['Player', 'Pos', 'Age', 'Tm', 'G', 'MP']\n",
    "    final_training_data = pd.DataFrame()\n",
    "    for year in year_arr:\n",
    "        temp_panda = pd.DataFrame()\n",
    "        #grabbing ALL-NBA team given year\n",
    "        all_nba_arr = grab_AllNBA(year)\n",
    "        statistic = \"\"\n",
    "        for stat_type in type_of_stats:\n",
    "            statistic = stat_type\n",
    "            #grab raw data\n",
    "            url = \"https://www.basketball-reference.com/leagues/NBA_{}_{}.html\".format(year,stat_type) \n",
    "            html = urlopen(url)\n",
    "            soup = BeautifulSoup(html)\n",
    "            headers = [th.getText() for th in soup.find_all('tr',limit=2)[0].findAll('th')][1:]\n",
    "            rows = soup.findAll('tr')[1:]\n",
    "            player_stats = [[td.getText() for td in rows[i].find_all('td')]for i in range(len(rows))]\n",
    "            stats = pd.DataFrame(player_stats,columns=headers)\n",
    "            #changing column types to Strings\n",
    "            stats = stats.convert_dtypes() \n",
    "            #removing duplicate names\n",
    "            stats = stats.drop_duplicates(\"Player\")\n",
    "            #filtering null rows\n",
    "            stats = stats[stats.Player.notnull()]\n",
    "            #filtering null columns\n",
    "            stats = stats.loc[:,~stats.columns.duplicated()]\n",
    "            if '' in stats.columns:\n",
    "                stats = stats.drop('',axis=1)\n",
    "            if stat_type == \"advanced\":\n",
    "                stats = stats.drop(stats.columns[18],axis=1)\n",
    "            #deleting Game Started column so it makes joining easier\n",
    "            if stat_type != \"advanced\":\n",
    "                stats = stats.drop([\"GS\"],axis=1)\n",
    "            #changing name of columns based on stat_type\n",
    "            new_columns = [col_name+\"_{}\".format(stat_type) for col_name in stats.columns if col_name not in non_changeable_cols]\n",
    "            stats.columns = non_changeable_cols + new_columns\n",
    "            try:\n",
    "                temp_panda = temp_panda.merge(stats,left_on=\"Player\",right_on=\"Player\",suffixes=(\"\",\"_\"))\n",
    "            except:\n",
    "                temp_panda = stats    \n",
    "        #renaming panda to stats and removing duplicate rows\n",
    "        stats = temp_panda\n",
    "        stats = stats.loc[:,~stats.columns.duplicated()]\n",
    "        stats = stats.drop(['Pos_', 'Age_', 'Tm_', 'G_', 'MP_'],axis=1)\n",
    "        #add year column\n",
    "        stats[\"Year\"] = year\n",
    "        #creating all-nba column\n",
    "        stats[\"All_NBA\"] = False\n",
    "        #changing name column to remove star and edit All-NBA column\n",
    "        for i in stats.index:\n",
    "            #edit names to remove star at end of name\n",
    "            stats[\"Player\"][i] = stats[\"Player\"][i][:-1] if stats[\"Player\"][i][-1:] == \"*\" else stats[\"Player\"][i]\n",
    "            #filling in All_NBA values correctly\n",
    "            stats[\"All_NBA\"][i] = True if stats[\"Player\"][i] in all_nba_arr else False\n",
    "        try:\n",
    "            final_training_data = final_training_data.append(stats)\n",
    "        except:\n",
    "            final_training_data = stats\n",
    "    #save panda to csv\n",
    "    final_training_data.to_csv(file_name)\n",
    "    final_training_data = pd.read_csv(file_name)\n",
    "    final_training_data.fillna(0,inplace=True)\n",
    "    final_training_data = final_training_data.drop([\"Unnamed: 0\"],axis=1)\n",
    "    final_training_data.to_csv(file_name)\n",
    "    print(\"Finished making \",file_name)\n",
    "\n"
   ]
  },
  {
   "cell_type": "code",
   "execution_count": 4,
   "metadata": {},
   "outputs": [
    {
     "output_type": "stream",
     "name": "stdout",
     "text": [
      "Starting making  full_training_data_1988-2016\n",
      "Finished making  full_training_data_1988-2016\n",
      "Starting making  testing_data_2017-2020\n",
      "Finished making  testing_data_2017-2020\n"
     ]
    }
   ],
   "source": [
    "#creating datasets\n",
    "grab_NBA_Data(training_year_arr,\"full_training_data_1988-2016\")\n",
    "grab_NBA_Data(testing_year_arr,\"testing_data_2017-2020\")"
   ]
  },
  {
   "source": [
    "Different ways to show that that there are no null values"
   ],
   "cell_type": "markdown",
   "metadata": {}
  },
  {
   "cell_type": "code",
   "execution_count": 3,
   "metadata": {},
   "outputs": [
    {
     "output_type": "stream",
     "name": "stdout",
     "text": [
      "(12204, 95)\nIndex([], dtype='object')\nSeries([], dtype: float64)\n(2085, 95)\nIndex([], dtype='object')\nSeries([], dtype: float64)\n"
     ]
    }
   ],
   "source": [
    "training_data = pd.read_csv(\"full_training_data_1988-2016\")\n",
    "print(training_data.shape)\n",
    "# training_data.fillna(0,inplace=True)\n",
    "null_col = training_data.columns[training_data.isnull().any()]\n",
    "print(null_col)\n",
    "print(training_data[null_col].isnull().sum())\n",
    "bird = training_data.loc[training_data.Player == \"Larry Bird\"]\n",
    "\n",
    "\n",
    "testing_data = pd.read_csv(\"testing_data_2017-2020\")\n",
    "print(testing_data.shape)\n",
    "null_col = testing_data.columns[testing_data.isnull().any()]\n",
    "print(null_col)\n",
    "print(testing_data[null_col].isnull().sum())\n"
   ]
  },
  {
   "cell_type": "code",
   "execution_count": 5,
   "metadata": {},
   "outputs": [
    {
     "output_type": "stream",
     "name": "stdout",
     "text": [
      "864\n"
     ]
    }
   ],
   "source": [
    "testing_data = pd.read_csv(\"testing_data_2017-2020\")\n",
    "print(testing_data.shape)\n",
    "print(len(testing_data.Player.unique()))"
   ]
  }
 ]
}